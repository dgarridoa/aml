{
 "cells": [
  {
   "cell_type": "markdown",
   "metadata": {},
   "source": [
    "# Coordinate Ascent Variational Inference"
   ]
  },
  {
   "cell_type": "markdown",
   "metadata": {},
   "source": [
    "Variational Inference (VI) is an approach used to approximate complicated distribution $p(z|x)$. It learn an approximate distribution $q(z)$ by optimization. In this paper, we use Coordinate Ascent Variational Inference (CAVI) to approximate the posterior distribution of a mixture of two 1D Gaussian distribution."
   ]
  },
  {
   "cell_type": "markdown",
   "metadata": {},
   "source": [
    "## A. Gaussian Mixture Model\n",
    "\n",
    "We consider a 1D Gaussian mixture model with prior variance of component means $\\sigma^{2}$. The full hierarchical model is\n",
    "\n",
    "\\begin{align}\n",
    "    \\mu_{k} &\\sim \\mathcal{N}(0, \\sigma^{2}), & k=1,\\ldots, K\\\\\n",
    "    c_{i} &\\sim Categorical(1/K, \\ldots, 1/K), & i=1, \\ldots, n\\\\\n",
    "    x_{i}|c_{i}, \\mu &\\sim \\mathcal{N}(c_{i}^{T}\\mu, 1) & i=1, \\ldots, n\n",
    "\\end{align}\n",
    "\n",
    "\n",
    ", and the mean-field variational family instead\n",
    "\n",
    "\\begin{align}\n",
    "q(\\mu, c) = \\prod_{k=1}^{K}q(\\mu_{k};m_{k}, s_{k}^{2})\\prod_{i=1}^{n}q(c_{i};\\varphi_{i})\n",
    "\\end{align}\n"
   ]
  },
  {
   "cell_type": "markdown",
   "metadata": {},
   "source": [
    "## B. ELBO\n",
    "\n",
    "The Evidence Lower Bound (ELBO) to maximize is\n",
    "\n",
    "\\begin{align}\n",
    "    &ELBO(m, s^{2}, \\varphi) = \\sum_{k=1}^{K}\\mathbb{E}\\big[\\log p(\\mu_{k});m_{k}, s_{k}^{2}\\big]\\\\\n",
    "    &+\\sum_{i=1}^{n}\\bigg(\\mathbb{E}\\big[\\log p(c_{i});\\varphi_{i}\\big]+\\mathbb{E}\\big[\\log p(x_{i}|c_{i}, \\mu);\\varphi_{i},m, s^{2}\\big]\\bigg)\\\\\n",
    "    &-\\sum_{i=1}^{n}\\mathbb{E}\\big[\\log q(c_{i};\\varphi_{i})]-\\sum_{k=1}^{K}\\mathbb{E}\\big[\\log q(\\mu_{k};m_{k}, s_{k}^{2})]\n",
    "\\end{align}\n",
    "\n",
    "Using that $q(\\mu_{k}; m_{k}, s_{k}^{2}) = \\mathcal{N}(\\mu_{k};m_{k}, s_{k}^{2})$ and $q(c_{i};\\varphi_{i})=Cat(c_{i};\\varphi_{i})$ the ELBO can be written as\n",
    "\n",
    "\\begin{align}\n",
    "    &ELBO(m, s^{2}, \\varphi) = -\\frac{1}{2\\sigma^{2}}\\sum_{k=1}^{K} m_{k}^{2}+s_{k}^{2}-\\frac{1}{2}\\log 2\\pi\\sigma^{2}\\\\\n",
    "    &-n\\log K+\\sum_{i=1}^{N}\\sum_{k=1}^{K}\\varphi_{ik}(m_{k}x_{i}-\\frac{m_{k}^{2}+s_{k}^{2}}{2})\\\\\n",
    "    &-\\frac{1}{2}\\sum_{i=1}^{n}x_{i}^{2}-\\frac{n}{2}\\log 2\\pi \\\\\n",
    "    &-\\sum_{i=1}^{n}\\sum_{k=1}^{K}\\varphi_{ik}\\log \\varphi_{ik}-\\frac{1}{2}\\sum_{k=1}^{K}\\log s_{k}^{2}\n",
    "\\end{align}\n",
    "\n",
    ", and can be simplified to \n",
    "\n",
    "\\begin{align}\n",
    "    &ELBO(m, s^{2}, \\varphi) = -\\frac{1}{2\\sigma^{2}}\\sum_{k=1}^{K} m_{k}^{2}+s_{k}^{2}\\\\\n",
    "    &+\\sum_{i=1}^{N}\\sum_{k=1}^{K}\\varphi_{ik}(m_{k}x_{i}-\\frac{m_{k}^{2}+s_{k}^{2}}{2})\\\\\n",
    "    &-\\sum_{i=1}^{n}\\sum_{k=1}^{K}\\varphi_{ik}\\log \\varphi_{ik}-\\frac{1}{2}\\sum_{k=1}^{K}\\log s_{k}^{2}\\\\\n",
    "    &+const\n",
    "\\end{align}\n",
    "\n",
    ", so we can omit the constant."
   ]
  },
  {
   "cell_type": "markdown",
   "metadata": {},
   "source": [
    "## C. CAVI\n",
    "\n",
    "Below the particular CAVI algorithm:\n",
    "\n",
    "\n",
    "\n",
    "\n",
    "**input**: Data $x_{1:n}$, number of components $K$, prior variance of component means $\\sigma^{2}$<br>\n",
    "**output**: Variational densities $q(\\mu_{k};m_{k},s_{k}^{2})$(Gaussian) and $q(c_{i};\\varphi_{i})$ (K-categorical)<br>\n",
    "**initialize**: Variational parameters $m=m_{1:K}$, $s^{2}=s_{1:K}^{2}$, and $\\varphi=\\varphi_{1:n}$<br>\n",
    "**while** the ELBO has not converged **do**<br>\n",
    "- **for** $i \\in\\{1,\\ldots, n\\}$ **do**<br>\n",
    "\\begin{align}\n",
    "\\alpha_{ik} = \\exp\\big(m_{k}x_{i}-\\frac{m_{k}^{2}+s_{k}^{2}}{2}\\big)\n",
    "\\end{align}\n",
    "\\begin{align}\n",
    "\\phi_{ik} = \\frac{\\alpha_{ik}}{\\sum_{k=1}^{K}\\alpha_{ik}}\n",
    "\\end{align}\n",
    "    **end**<br>\n",
    "- **for** $k \\in \\{1, \\ldots, K\\}$ **do**<br>\n",
    "\\begin{align}\n",
    "m_{k} = \\frac{\\sum_{i=1}^{n}\\varphi_{ik}x_{i}}{1/\\sigma^{2}+\\sum_{i=1}^{n}\\varphi_{ik}x_{i}}\n",
    "\\end{align}\n",
    "\\begin{align}\n",
    "s_{k}^{2} = \\frac{1}{1/\\sigma^{2}+\\sum_{i=1}^{n}\\varphi_{ik}x_{i}}\n",
    "\\end{align}\n",
    "     **end**<br>\n",
    "     Compute ELBO($m, s^{2}, \\varphi$)<br>\n",
    "     \n",
    "**end**\n",
    "\n",
    "\n",
    "The convergence criterion used is $ELBO_{i}-ELBO_{i-1}<tol$ and $ELBO_{i}-ELBO_{i-1}\\geq 0$, where $tol$ means the numerical tolerance, in this case it was set to $1e-16$. "
   ]
  },
  {
   "cell_type": "code",
   "execution_count": 2,
   "metadata": {},
   "outputs": [],
   "source": [
    "import numpy as np\n",
    "import matplotlib.pyplot as plt\n",
    "import seaborn as sns\n",
    "from time import time\n",
    "from scipy.stats import norm, uniform, beta, bernoulli, multinomial, dirichlet, gamma\n",
    "\n",
    "import warnings\n",
    "warnings.filterwarnings(\"ignore\")\n",
    "\n",
    "plt.rc('axes', titlesize=14)     # fontsize of the axes title\n",
    "plt.rc('axes', labelsize=14)    # fontsize of the x and y labels"
   ]
  },
  {
   "cell_type": "code",
   "execution_count": 3,
   "metadata": {},
   "outputs": [],
   "source": [
    "def cavi_gmm(x, K, sigma2, m=None, s2=None, phi=None, max_iter=100, tol=1e-16, seed=0):\n",
    "    def compute_elbo(x, sigma2, m, s2, phi):\n",
    "        ms2 = (m**2+s2)/2\n",
    "        term1 = -ms2.sum()/sigma2\n",
    "        term2 = np.dot(np.dot(x, phi),m)-(phi*ms2).sum()\n",
    "        term3 = - (np.nan_to_num(phi*np.log(phi))).sum()\n",
    "        term4 = -np.log(s2).sum()/2\n",
    "        return term1+term2+term3+term4\n",
    "\n",
    "    ti = time()\n",
    "    # number of observations\n",
    "    n = len(x)\n",
    "    # generate init parameters if are not given\n",
    "    np.random.seed(seed)\n",
    "    if m is None:\n",
    "        m = norm.rvs(loc=0,scale=sigma2**0.5,size=K)\n",
    "    if s2 is None:\n",
    "        s2 = gamma.rvs(1,1,size=K)\n",
    "    if phi is None:\n",
    "        phi =  dirichlet.rvs(np.ones(K),n)\n",
    "\n",
    "    # loss\n",
    "    elbo = []\n",
    "    \n",
    "    # init counter\n",
    "    j=0\n",
    "    elbo0 = 1e-16\n",
    "    while (j<max_iter):\n",
    "        # update phi\n",
    "        for i in range(0, n):\n",
    "            for k in range(1, K):\n",
    "                phi[i,k] = np.exp(m[k]*x[i]-(s2[k]+m[k]**2)/2)\n",
    "            phi[i] = phi[i]/phi[i].sum()\n",
    "        # update m\n",
    "        for k in range(0,K):\n",
    "            aux_value = (1/sigma2+phi[:,k].sum())\n",
    "            m[k] = np.dot(phi[:,k],x)/aux_value\n",
    "            s2[k] = 1/aux_value\n",
    "        # compute elbo\n",
    "        elbo1 = compute_elbo(x, sigma2, m, s2, phi)\n",
    "        elbo.append(elbo1)\n",
    "        # convegence criteria\n",
    "        if (elbo1-elbo0<tol) and (elbo1-elbo0>=0):\n",
    "            break\n",
    "        else:\n",
    "            elbo0 = elbo1\n",
    "        # update counter\n",
    "        j +=1\n",
    "    tf = time()\n",
    "    return   {\"elbo\":elbo, \"m\":m, \"s2\":s2, \"phi\":phi, \"t\":tf-ti, \"iter\": j, \"n\":n}"
   ]
  },
  {
   "cell_type": "markdown",
   "metadata": {},
   "source": [
    "## D. Data\n",
    "\n",
    "In this section is explained the process used to generate the data. Firstly, was setted the number of components to discover in $K=2$ and the prior variance of component means in $\\sigma^{2}=100$. Secondly, two means are sampled using $\\mu_{k}\\sim \\mathcal{N}(0, \\sigma)$. The means gotten are $\\mu_{1}=2.210$ and $\\mu_{2}=-3.405$. Thirdly, the mixtures components are sampled using $\\pi\\sim Dir(1_{K})$ and the clusters assignments from $c_{i}\\sim Cat(\\pi)$ with $i \\in {1\\,\\ldots, n}$, where the sample size $n$ is not fixed. The $\\pi$ gotten is $[0.656, 0.344]$. Finally, the data is sampled using $x_{i}|c_{i}, \\mu \\sim \\mathcal{N}(c_{i}^{T}\\mu, 1)$. It is ilustrated in Figure 1 using a sample size $n=10000$. "
   ]
  },
  {
   "cell_type": "code",
   "execution_count": 4,
   "metadata": {},
   "outputs": [],
   "source": [
    "def sampling(n=100, seed=12345, sigma2=100, K=2):\n",
    "        np.random.seed(seed)\n",
    "        mu = norm.rvs(loc=0, scale=sigma2**0.5, size=K)\n",
    "        p = dirichlet.rvs(np.ones(K),1)[0]\n",
    "        c = multinomial.rvs(p=p, size=n, n=1)\n",
    "        x = np.array([norm.rvs(np.dot(c[i], mu), 1) for i in range(n)])\n",
    "        return mu, p, c, x"
   ]
  },
  {
   "cell_type": "code",
   "execution_count": 5,
   "metadata": {},
   "outputs": [
    {
     "name": "stdout",
     "output_type": "stream",
     "text": [
      "[ 2.21003263 -3.40465009] [0.65610367 0.34389633]\n"
     ]
    }
   ],
   "source": [
    "# sampling mixture of two normal\n",
    "sigma2 = 100\n",
    "mu, pi, c, x = sampling(n=10000, seed=19, sigma2=sigma2, K=2)\n",
    "print(mu, pi)"
   ]
  },
  {
   "cell_type": "code",
   "execution_count": 6,
   "metadata": {},
   "outputs": [
    {
     "data": {
      "image/png": "[encoded data removed]",
      "text/plain": [
       "<Figure size 576x288 with 1 Axes>"
      ]
     },
     "metadata": {
      "needs_background": "light"
     },
     "output_type": "display_data"
    }
   ],
   "source": [
    "fig1, axs = plt.subplots(1, 1, figsize=(8,4))\n",
    "sns.distplot(x, ax=axs,  color=\"darkblue\")\n",
    "axs.spines['right'].set_visible(False)\n",
    "axs.spines['top'].set_visible(False)\n",
    "plt.show()"
   ]
  },
  {
   "cell_type": "markdown",
   "metadata": {},
   "source": [
    "**Figure 1:** Random sample of a mixture of two Gaussians with sample size $n=10000$."
   ]
  },
  {
   "cell_type": "code",
   "execution_count": 7,
   "metadata": {},
   "outputs": [],
   "source": [
    "fig1.savefig(\"img/data.pdf\", bbox_inches = 'tight', pad_inches = 0)"
   ]
  },
  {
   "cell_type": "markdown",
   "metadata": {},
   "source": [
    "## E. ELBO convergence\n",
    "\n",
    "\n",
    "This section shows ELBO's convergece in function of different samples sizes and initial parameters. The ELBO's convergence for different sample sizes is illustrated in Figure 2. The initial variational parameters used are the same, they are $m_{k} = 0$ (the prior mean), $s_{k}=1$ and $\\phi_{ik}=1/K$. In this figure it is observed that the greater sample size takes less iterations in converge. However, a larger sample size implies more expensive iterations. The behavior of the ELBO's convergence for different initial variational parameter is shown in Figure 3. The sample size used are the same and is $n=100$. In this figure it is observed that different initialization of the variational parameters may lead CAVI to find different local optima of the ELBO."
   ]
  },
  {
   "cell_type": "code",
   "execution_count": 8,
   "metadata": {},
   "outputs": [],
   "source": [
    "outputs = []\n",
    "for n in [10, 20, 50, 100]:\n",
    "    # init parameters\n",
    "    K = 2\n",
    "    sigma2 = 100\n",
    "    m = np.zeros(K)\n",
    "    s2 = np.ones(K)\n",
    "    phi = np.ones((n, K))/K \n",
    "    # sampling mixture of two normal\n",
    "    mu, pi, c, x = sampling(n=n, seed=19, sigma2=sigma2, K=K)\n",
    "    # cavi\n",
    "    output = cavi_gmm(x=x, K=K, sigma2=sigma2, m=m, s2=s2, phi=phi, max_iter=1000)\n",
    "    outputs.append(output)"
   ]
  },
  {
   "cell_type": "code",
   "execution_count": 9,
   "metadata": {},
   "outputs": [
    {
     "data": {
      "image/png": "[encoded data removed]",
      "text/plain": [
       "<Figure size 576x288 with 4 Axes>"
      ]
     },
     "metadata": {
      "needs_background": "light"
     },
     "output_type": "display_data"
    }
   ],
   "source": [
    "fig2, axs = plt.subplots(2, 2, figsize=(8,4))\n",
    "plt.subplots_adjust(hspace=0.5, wspace=0.15)\n",
    "data_size = [[10, 20], [50, 100]]\n",
    "elbos = [outputs[i][\"elbo\"] for i in [0,1,2,3]]\n",
    "for i in range(2):\n",
    "    for j in range(2):\n",
    "        axs[i,j].plot(elbos[i*2+j], color=\"darkblue\")\n",
    "        axs[i,j].spines['right'].set_visible(False)\n",
    "        axs[i,j].spines['top'].set_visible(False)\n",
    "        axs[i,j].set_xlabel(f\"n={data_size[i][j]}\")\n",
    "plt.show()"
   ]
  },
  {
   "cell_type": "markdown",
   "metadata": {},
   "source": [
    "**Figure 2:** Iteration that the ELBO takes to converge for different sample sizes."
   ]
  },
  {
   "cell_type": "code",
   "execution_count": 10,
   "metadata": {},
   "outputs": [],
   "source": [
    "fig2.savefig(\"img/elbo_sample.pdf\", bbox_inches = 'tight', pad_inches = 0)"
   ]
  },
  {
   "cell_type": "code",
   "execution_count": 11,
   "metadata": {},
   "outputs": [
    {
     "name": "stdout",
     "output_type": "stream",
     "text": [
      "[ 2.0635241  -3.68941219] [0.01591918 0.02687978] [0.62807308 0.37192692]\n"
     ]
    }
   ],
   "source": [
    "m = outputs[-1][\"m\"]\n",
    "s2 = outputs[-1][\"s2\"]\n",
    "p = outputs[-1][\"phi\"].mean(axis=0)\n",
    "print(m, s2, p)"
   ]
  },
  {
   "cell_type": "code",
   "execution_count": 12,
   "metadata": {},
   "outputs": [],
   "source": [
    "elbos = []\n",
    "for seed in range(0, 20):\n",
    "    elbos.append(cavi_gmm(x, K, sigma2, \n",
    "                          m=None, s2=None, phi=None, max_iter=25, tol=1e-16, seed=seed)[\"elbo\"])"
   ]
  },
  {
   "cell_type": "code",
   "execution_count": 13,
   "metadata": {},
   "outputs": [
    {
     "data": {
      "image/png": "[encoded data removed]",
      "text/plain": [
       "<Figure size 576x288 with 1 Axes>"
      ]
     },
     "metadata": {
      "needs_background": "light"
     },
     "output_type": "display_data"
    }
   ],
   "source": [
    "fig3, axs = plt.subplots(1, 1, figsize=(8,4))\n",
    "axs.spines['right'].set_visible(False)\n",
    "axs.spines['top'].set_visible(False)  \n",
    "for elbo in elbos:\n",
    "    if len(elbo)>=10:\n",
    "        axs.plot(elbo, color=\"darkblue\", alpha=0.6)\n",
    "plt.show()"
   ]
  },
  {
   "cell_type": "code",
   "execution_count": 14,
   "metadata": {},
   "outputs": [],
   "source": [
    "fig3.savefig(\"img/elbo_init.pdf\", bbox_inches = 'tight', pad_inches = 0)"
   ]
  },
  {
   "cell_type": "markdown",
   "metadata": {},
   "source": [
    "## F. CAVI approximation\n",
    "\n",
    "The mean-field approximation is shown in Figure 4. In this figure can be senn that the mean-field approximation underestimate the posterionr variance. This is consequence of its objective function, since it penalizes more to put mass in regions where $p(z|x)$ has no mass. Despite underestimating the variance, the approximation is quite good, where for a sample size $n=100$ the expected value of the means are $\\mathbb{E}(\\mu_{1}) = 2.064$ and $\\mathbb{E}(\\mu_{2})=-3.689$, very close to the means used to generate the data."
   ]
  },
  {
   "cell_type": "code",
   "execution_count": 15,
   "metadata": {},
   "outputs": [
    {
     "data": {
      "image/png": "[encoded data removed]",
      "text/plain": [
       "<Figure size 576x288 with 1 Axes>"
      ]
     },
     "metadata": {
      "needs_background": "light"
     },
     "output_type": "display_data"
    }
   ],
   "source": [
    "xqs = []\n",
    "yqs = []\n",
    "xps = []\n",
    "yps = []\n",
    "\n",
    "for k in range(K-1, -1, -1):\n",
    "\n",
    "    xq = np.linspace(m[k] - 3*s2[k]**0.5, m[k] + 3*s2[k]**0.5, 1000)\n",
    "    yq = p[k]*norm.pdf(xq, m[k], s2[k]**0.5)\n",
    "    \n",
    "    xp = np.linspace(mu[k] - 3, m[k] + 3, 1000)\n",
    "    yp = pi[k]*norm.pdf(xp, mu[k], 1)\n",
    "    \n",
    "    xqs.append(xq)\n",
    "    yqs.append(yq)\n",
    "    xps.append(xp)\n",
    "    yps.append(yp)\n",
    "    \n",
    "xq = np.concatenate(xqs)\n",
    "yq = np.concatenate(yqs)\n",
    "xp = np.concatenate(xps)\n",
    "yp = np.concatenate(yps)\n",
    "\n",
    "fig4, axs = plt.subplots(1, 1, figsize=(8,4))\n",
    "\n",
    "axs.plot(xq, yq, color=\"darkred\", label=\"Mean-field Approximation\")\n",
    "axs.plot(xp, yp, color=\"darkblue\", label=\"Exact Posterior\")\n",
    "axs.spines['right'].set_visible(False)\n",
    "axs.spines['top'].set_visible(False)  \n",
    "plt.legend(frameon=False)\n",
    "plt.show()"
   ]
  },
  {
   "cell_type": "markdown",
   "metadata": {},
   "source": [
    "**Figure 4**: Mean-field approximation of a Gaussian mixture model."
   ]
  },
  {
   "cell_type": "code",
   "execution_count": 16,
   "metadata": {},
   "outputs": [],
   "source": [
    "fig4.savefig(\"img/cavi_approx.pdf\", bbox_inches = 'tight', pad_inches = 0)"
   ]
  }
 ],
 "metadata": {
  "kernelspec": {
   "display_name": "Python 3",
   "language": "python",
   "name": "python3"
  },
  "language_info": {
   "codemirror_mode": {
    "name": "ipython",
    "version": 3
   },
   "file_extension": ".py",
   "mimetype": "text/x-python",
   "name": "python",
   "nbconvert_exporter": "python",
   "pygments_lexer": "ipython3",
   "version": "3.7.4"
  }
 },
 "nbformat": 4,
 "nbformat_minor": 2
}
